{
  "cells": [
    {
      "cell_type": "markdown",
      "metadata": {
        "id": "KHWxbZd4LHxL"
      },
      "source": [
        "論文  \n",
        "https://arxiv.org/pdf/2104.07636.pdf  \n",
        "GitHub  \n",
        "https://github.com/Janspiry/Image-Super-Resolution-via-Iterative-Refinement  \n",
        "  \n",
        "<a href=\"https://colab.research.google.com/github/kaz12tech/ai_demos/blob/master/sr3_demo.ipynb\" target=\"_blank\"><img src=\"https://colab.research.google.com/assets/colab-badge.svg\" alt=\"Open In Colab\"/></a>"
      ]
    },
    {
      "cell_type": "code",
      "execution_count": null,
      "metadata": {
        "id": "ZgWfDF4AKdMn"
      },
      "outputs": [],
      "source": [
        "# カレントディレクトリ確認\n",
        "!pwd\n",
        "# GPU確認\n",
        "!nvidia-smi --query-gpu=gpu_name,driver_version,memory.total --format=csv\n"
      ]
    },
    {
      "cell_type": "code",
      "execution_count": null,
      "metadata": {
        "id": "zSPqjHnaNCDm"
      },
      "outputs": [],
      "source": [
        "# SR3のソースコードをGitHubから取得\n",
        "%cd /content/\n",
        "!git clone https://github.com/Janspiry/Image-Super-Resolution-via-Iterative-Refinement.git"
      ]
    },
    {
      "cell_type": "code",
      "execution_count": null,
      "metadata": {
        "id": "zIzMNtLaoARV"
      },
      "outputs": [],
      "source": [
        "# ライブラリインストール\n",
        "!pip install tensorboardx wandb\n",
        "!pip install lmdb\n",
        "!pip install --upgrade gdown"
      ]
    },
    {
      "cell_type": "markdown",
      "metadata": {
        "id": "PPwm9-cHZ28z"
      },
      "source": [
        "# 学習済みモデルをダウンロード\n",
        "\n",
        "https://drive.google.com/drive/folders/1mCiWhFqHyjt5zE4IdA41fjFwCYdqDzSF  \n",
        "gdownが失敗した場合は  \n",
        "上記からI830000_E32_opt.pthとI830000_E32_gen.pthをダウンロードして/content/Image-Super-Resolution-via-Iterative-Refinementに配置  "
      ]
    },
    {
      "cell_type": "code",
      "execution_count": null,
      "metadata": {
        "id": "6f3pbAcjNwPL"
      },
      "outputs": [],
      "source": [
        "%cd /content/Image-Super-Resolution-via-Iterative-Refinement/\n",
        "!gdown --id 1M015uQG8cq0mqwhEfc7klFJwDr2jsYSr\n",
        "!gdown --id 1Vwe1Raa-Dpop75o5v7O5qvGoOdFDlyc-"
      ]
    },
    {
      "cell_type": "code",
      "execution_count": null,
      "metadata": {
        "id": "Zz_dToIdldg4"
      },
      "outputs": [],
      "source": [
        "# resume_stateにモデルを設定\n",
        "!sed -i ./config/sr_sr3_64_512.json -e \"s/\\\"resume_state\\\": null/\\\"resume_state\\\": \\\"I830000_E32\\\"/g\""
      ]
    },
    {
      "cell_type": "code",
      "execution_count": null,
      "metadata": {
        "id": "p2QA8Kp2bidb"
      },
      "outputs": [],
      "source": [
        "# テストデータ用ディレクトリ作成\n",
        "!mkdir input\n",
        "%cd \"/content/Image-Super-Resolution-via-Iterative-Refinement/input\"\n",
        "\n",
        "# ファイルアップロード\n",
        "from google.colab import files\n",
        "uploaded = files.upload()\n",
        "uploaded = list(uploaded.keys())\n",
        "print(uploaded)\n",
        "file_name = uploaded[0]"
      ]
    },
    {
      "cell_type": "code",
      "execution_count": null,
      "metadata": {
        "id": "ro-F1Hdxbvry"
      },
      "outputs": [],
      "source": [
        "%cd \"/content/Image-Super-Resolution-via-Iterative-Refinement\"\n",
        "\n",
        "# データ準備\n",
        "!mkdir -p ./dataset/celebahq\n",
        "\n",
        "# ./dataset/celebahqにdata.mdbとlock.mdbを作成\n",
        "!python data/prepare_data.py  --path ./input/  --out ./dataset/celebahq --size 64,512"
      ]
    },
    {
      "cell_type": "code",
      "execution_count": null,
      "metadata": {
        "id": "Szf7NIowgRqQ"
      },
      "outputs": [],
      "source": [
        "# 超解像実行\n",
        "!python infer.py -c ./config/sr_sr3_64_512.json"
      ]
    },
    {
      "cell_type": "markdown",
      "metadata": {
        "id": "grnwDl3Zr5vx"
      },
      "source": [
        "# 超解像の結果を表示"
      ]
    },
    {
      "cell_type": "code",
      "execution_count": null,
      "metadata": {
        "id": "X2zIvy_Mqq2s"
      },
      "outputs": [],
      "source": [
        "import glob\n",
        "from IPython.display import Image, display\n",
        "\n",
        "files = glob.glob(\"./experiments/*/results/*_sr.png\")\n",
        "for file in files:\n",
        "  display(Image(file))"
      ]
    }
  ],
  "metadata": {
    "accelerator": "GPU",
    "colab": {
      "name": "sr3_demo.ipynb",
      "provenance": []
    },
    "kernelspec": {
      "display_name": "Python 3",
      "name": "python3"
    },
    "language_info": {
      "name": "python"
    }
  },
  "nbformat": 4,
  "nbformat_minor": 0
}